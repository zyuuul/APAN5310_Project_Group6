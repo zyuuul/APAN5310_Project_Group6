{
 "cells": [
  {
   "cell_type": "code",
   "execution_count": 1,
   "id": "0a5fb518",
   "metadata": {},
   "outputs": [],
   "source": [
    "import pandas as pd\n",
    "import random\n",
    "\n",
    "num_rows = 600\n",
    "\n",
    "locations_df = pd.DataFrame({\n",
    "    'location_id': range(1, num_rows + 1),\n",
    "    'address': [f'Address {i}' for i in range(1, num_rows + 1)],\n",
    "    'city': [f'City {random.randint(1, 100)}' for _ in range(num_rows)],\n",
    "    'state': [f'State {random.randint(1, 50)}' for _ in range(num_rows)],\n",
    "    'country': [f'Country {random.randint(1, 50)}' for _ in range(num_rows)],\n",
    "})\n",
    "\n",
    "locations_df.to_csv('locations.csv', index=False)\n"
   ]
  },
  {
   "cell_type": "code",
   "execution_count": 3,
   "id": "38b3017a",
   "metadata": {},
   "outputs": [],
   "source": [
    "# 100常见的名字\n",
    "first_names = [\n",
    "    \"James\", \"John\", \"Robert\", \"Michael\", \"William\", \"David\", \"Richard\", \"Charles\", \"Joseph\", \"Thomas\",\n",
    "    \"Christopher\", \"Daniel\", \"Paul\", \"Mark\", \"Donald\", \"George\", \"Kenneth\", \"Steven\", \"Edward\", \"Brian\",\n",
    "    \"Ronald\", \"Anthony\", \"Kevin\", \"Jason\", \"Matthew\", \"Gary\", \"Timothy\", \"Jose\", \"Larry\", \"Jeffrey\",\n",
    "    \"Frank\", \"Scott\", \"Eric\", \"Stephen\", \"Andrew\", \"Raymond\", \"Gregory\", \"Joshua\", \"Jerry\", \"Dennis\",\n",
    "    \"Walter\", \"Patrick\", \"Peter\", \"Harold\", \"Douglas\", \"Henry\", \"Carl\", \"Arthur\", \"Ryan\", \"Roger\",\n",
    "    \"Joe\", \"Juan\", \"Jack\", \"Albert\", \"Jonathan\", \"Justin\", \"Terry\", \"Gerald\", \"Keith\", \"Samuel\",\n",
    "    \"Willie\", \"Ralph\", \"Lawrence\", \"Nicholas\", \"Roy\", \"Benjamin\", \"Bruce\", \"Brandon\", \"Adam\", \"Harry\",\n",
    "    \"Fred\", \"Wayne\", \"Billy\", \"Steve\", \"Louis\", \"Jeremy\", \"Aaron\", \"Randy\", \"Howard\", \"Eugene\",\n",
    "    \"Carlos\", \"Russell\", \"Bobby\", \"Victor\", \"Martin\", \"Ernest\", \"Phillip\", \"Todd\", \"Jesse\", \"Craig\",\n",
    "    \"Alan\", \"Shawn\", \"Clarence\", \"Sean\", \"Philip\", \"Chris\", \"Johnny\", \"Earl\", \"Jimmy\", \"Antonio\"\n",
    "]\n",
    "\n",
    "# 100常见的姓氏\n",
    "last_names = [\n",
    "    \"Smith\", \"Johnson\", \"Williams\", \"Jones\", \"Brown\", \"Davis\", \"Miller\", \"Wilson\", \"Moore\", \"Taylor\",\n",
    "    \"Anderson\", \"Thomas\", \"Jackson\", \"White\", \"Harris\", \"Martin\", \"Thompson\", \"Garcia\", \"Martinez\", \"Robinson\",\n",
    "    \"Clark\", \"Rodriguez\", \"Lewis\", \"Lee\", \"Walker\", \"Hall\", \"Allen\", \"Young\", \"Hernandez\", \"King\",\n",
    "    \"Wright\", \"Lopez\", \"Hill\", \"Scott\", \"Green\", \"Adams\", \"Baker\", \"Gonzalez\", \"Nelson\", \"Carter\",\n",
    "    \"Mitchell\", \"Perez\", \"Roberts\", \"Turner\", \"Phillips\", \"Campbell\", \"Parker\", \"Evans\", \"Edwards\", \"Collins\",\n",
    "    \"Stewart\", \"Sanchez\", \"Morris\", \"Rogers\", \"Reed\", \"Cook\", \"Morgan\", \"Bell\", \"Murphy\", \"Bailey\",\n",
    "    \"Rivera\", \"Cooper\", \"Richardson\", \"Cox\", \"Howard\", \"Ward\", \"Torres\", \"Peterson\", \"Gray\", \"Ramirez\",\n",
    "    \"James\", \"Watson\", \"Brooks\", \"Kelly\", \"Sanders\", \"Price\", \"Bennett\", \"Wood\", \"Barnes\", \"Ross\",\n",
    "    \"Henderson\", \"Coleman\", \"Jenkins\", \"Perry\", \"Powell\", \"Long\", \"Patterson\", \"Hughes\", \"Flores\", \"Washington\"\n",
    "]\n",
    "\n",
    "customers_df = pd.DataFrame({\n",
    "    'customer_id': range(1, num_rows + 1),\n",
    "    'first_name': [random.choice(first_names) for _ in range(num_rows)],\n",
    "    'last_name': [random.choice(last_names) for _ in range(num_rows)],\n",
    "    'email': [random_email() for _ in range(num_rows)],\n",
    "    'phone_number': [str(random.randint(1000000000, 9999999999)) for _ in range(num_rows)],\n",
    "    'loyalty_degree': [random.randint(1, 5) for _ in range(num_rows)],\n",
    "    'customer_address': [random.choice(locations_df['location_id'].tolist()) for _ in range(num_rows)],\n",
    "})\n",
    "\n",
    "customers_df.to_csv('customers.csv', index=False)"
   ]
  },
  {
   "cell_type": "code",
   "execution_count": 4,
   "id": "5c021a21",
   "metadata": {},
   "outputs": [],
   "source": [
    "airlines_df = pd.DataFrame({\n",
    "    'airline_id': range(1, 11),  # 假设有10家航空公司\n",
    "    'airline_name': [f'Airline {i}' for i in range(1, 11)],\n",
    "})\n",
    "\n",
    "airlines_df.to_csv('airlines.csv', index=False)\n"
   ]
  },
  {
   "cell_type": "code",
   "execution_count": 5,
   "id": "477db75f",
   "metadata": {},
   "outputs": [],
   "source": [
    "from datetime import timedelta\n",
    "\n",
    "flights_df = pd.DataFrame({\n",
    "    'flight_id': range(1, num_rows + 1),\n",
    "    'airline_id': [random.choice(airlines_df['airline_id'].tolist()) for _ in range(num_rows)],\n",
    "    'depart_airport': [f'{random_string(3).upper()}' for _ in range(num_rows)],\n",
    "    'depart_location': [random.choice(locations_df['location_id'].tolist()) for _ in range(num_rows)],\n",
    "    'destin_airport': [f'{random_string(3).upper()}' for _ in range(num_rows)],\n",
    "    'destin_location': [random.choice(locations_df['location_id'].tolist()) for _ in range(num_rows)],\n",
    "    'departure_time': pd.date_range(start='2022-01-01', periods=num_rows, freq='H'),\n",
    "    'arrival_time': pd.date_range(start='2022-01-01', periods=num_rows, freq='H') + timedelta(hours=5),\n",
    "    'duration': [timedelta(hours=random.randint(1, 15)) for _ in range(num_rows)],\n",
    "    'price': [random.uniform(50, 1000) for _ in range(num_rows)]\n",
    "})\n",
    "\n",
    "flights_df.to_csv('flights.csv', index=False)\n"
   ]
  },
  {
   "cell_type": "code",
   "execution_count": 6,
   "id": "5adbc046",
   "metadata": {},
   "outputs": [],
   "source": [
    "hotels_df = pd.DataFrame({\n",
    "    'hotel_id': range(1, num_rows + 1),\n",
    "    'hotel_name': [f'Hotel {i}' for i in range(1, num_rows + 1)],\n",
    "    'hotel_address': [random.choice(locations_df['location_id'].tolist()) for _ in range(num_rows)],\n",
    "    'star_rating': [random.randint(1, 5) for _ in range(num_rows)],\n",
    "})\n",
    "\n",
    "hotels_df.to_csv('hotels.csv', index=False)\n"
   ]
  },
  {
   "cell_type": "code",
   "execution_count": 7,
   "id": "6f53e00c",
   "metadata": {},
   "outputs": [],
   "source": [
    "room_types_df = pd.DataFrame({\n",
    "    'room_type_id': range(1, 6),\n",
    "    'room_type': ['Single', 'Double', 'Triple', 'Quad', 'Suite'],\n",
    "    'capacity': [1, 2, 3, 4, 5]\n",
    "})\n",
    "\n",
    "room_types_df.to_csv('room_types.csv', index=False)\n"
   ]
  },
  {
   "cell_type": "code",
   "execution_count": 8,
   "id": "751bc0cd",
   "metadata": {},
   "outputs": [],
   "source": [
    "import pandas as pd\n",
    "import random\n",
    "\n",
    "# 假设的租赁公司名称\n",
    "rental_company_names = [\n",
    "    'Speedy Rentals', 'City Cars', 'Express Auto', 'Budget Rentals',\n",
    "    'Deluxe Cars', 'Easy Drive', 'Prestige Autos', 'Economy Rentals',\n",
    "    'First Class Cars', 'Luxury Drive', 'Savvy Rentals', 'Prime Autos'\n",
    "]\n",
    "\n",
    "# 选择地址 ID，这里随机从之前创建的 locations_df 中选择\n",
    "rental_company_addresses = random.choices(locations_df['location_id'].tolist(), k=len(rental_company_names))\n",
    "\n",
    "# 创建一个数据框来表示 rental_companies 表\n",
    "rental_companies_df = pd.DataFrame({\n",
    "    'rental_company_id': range(1, len(rental_company_names) + 1),\n",
    "    'rental_company_name': rental_company_names,\n",
    "    'rental_company_address': rental_company_addresses\n",
    "})\n",
    "\n",
    "# 将数据框保存到 CSV 文件中\n",
    "rental_companies_df.to_csv('rental_companies.csv', index=False)\n"
   ]
  },
  {
   "cell_type": "code",
   "execution_count": 9,
   "id": "fe247416",
   "metadata": {},
   "outputs": [],
   "source": [
    "car_types_df = pd.DataFrame({\n",
    "    'car_type_id': range(1, 101),  # 假设有100种不同的车型\n",
    "    'car_type': [random.choice(['Sedan', 'SUV', 'Convertible', 'Hatchback', 'Coupe']) for _ in range(100)],\n",
    "    'manufacturer': [random.choice(['Toyota', 'Honda', 'Ford', 'BMW', 'Audi']) for _ in range(100)],\n",
    "    'model': [random_string(5) for _ in range(100)]  # 假设模型名称由随机字符串表示\n",
    "})\n",
    "\n",
    "car_types_df.to_csv('car_types.csv', index=False)\n"
   ]
  },
  {
   "cell_type": "code",
   "execution_count": 10,
   "id": "5cb3e530",
   "metadata": {},
   "outputs": [],
   "source": [
    "discounts_df = pd.DataFrame({\n",
    "    'customer_id': range(1, 601),\n",
    "    'discount_degree': [round(random.uniform(0.00, 0.20), 2) for _ in range(600)]  # 折扣范围从 0% 到 20%\n",
    "})\n",
    "\n",
    "discounts_df.to_csv('discounts.csv', index=False)\n"
   ]
  },
  {
   "cell_type": "code",
   "execution_count": 11,
   "id": "f322b2e5",
   "metadata": {},
   "outputs": [],
   "source": [
    "payment_information_df = pd.DataFrame({\n",
    "    'payment_id': range(1, 601),\n",
    "    'customer_id': range(1, 601),\n",
    "    'card_details': [str(random.randint(1000_0000_0000_0000, 9999_9999_9999_9999)) for _ in range(600)],\n",
    "    'payment': [round(random.uniform(100, 5000), 2) for _ in range(600)],\n",
    "    'billing_address': random.choices(locations_df['location_id'].tolist(), k=600),\n",
    "    'discount': random.choices(discounts_df['customer_id'].tolist(), k=600)\n",
    "})\n",
    "\n",
    "payment_information_df.to_csv('payment_information.csv', index=False)\n"
   ]
  },
  {
   "cell_type": "code",
   "execution_count": 12,
   "id": "18da1cba",
   "metadata": {},
   "outputs": [],
   "source": [
    "user_preferences_df = pd.DataFrame({\n",
    "    'customer_id': range(1, 601),\n",
    "    'preferred_hotel_id': random.choices(hotels_df['hotel_id'].tolist(), k=600),\n",
    "    'preferred_car_model_id': random.choices(car_types_df['car_type_id'].tolist(), k=600),\n",
    "    'preferred_airline_id': random.choices(airlines_df['airline_id'].tolist(), k=600)\n",
    "})\n",
    "\n",
    "user_preferences_df.to_csv('user_preferences.csv', index=False)\n"
   ]
  },
  {
   "cell_type": "code",
   "execution_count": 13,
   "id": "3c3bab37",
   "metadata": {},
   "outputs": [],
   "source": [
    "hotel_search_recommendations_df = pd.DataFrame({\n",
    "    'hotel_id': hotels_df['hotel_id'],\n",
    "    'room_type_id': random.choices(room_types_df['room_type_id'].tolist(), k=len(hotels_df)),\n",
    "    'avg_price': [round(random.uniform(50, 300), 2) for _ in range(len(hotels_df))],\n",
    "    'avg_review_score': [round(random.uniform(1, 5), 2) for _ in range(len(hotels_df))]\n",
    "})\n",
    "\n",
    "hotel_search_recommendations_df.to_csv('hotel_search_recommendations.csv', index=False)\n"
   ]
  },
  {
   "cell_type": "code",
   "execution_count": 14,
   "id": "143ea3f1",
   "metadata": {},
   "outputs": [],
   "source": [
    "car_rental_search_recommendations_df = pd.DataFrame({\n",
    "    'rental_company_id': rental_companies_df['rental_company_id'],\n",
    "    'car_type_id': random.choices(car_types_df['car_type_id'].tolist(), k=len(rental_companies_df)),\n",
    "    'avg_price': [round(random.uniform(30, 100), 2) for _ in range(len(rental_companies_df))],\n",
    "    'avg_review_score': [round(random.uniform(1, 5), 2) for _ in range(len(rental_companies_df))]\n",
    "})\n",
    "\n",
    "car_rental_search_recommendations_df.to_csv('car_rental_search_recommendations.csv', index=False)\n"
   ]
  },
  {
   "cell_type": "code",
   "execution_count": 15,
   "id": "ef13b191",
   "metadata": {},
   "outputs": [],
   "source": [
    "flight_search_recommendations_df = pd.DataFrame({\n",
    "    'flight_id': flights_df['flight_id'],\n",
    "    'avg_price': [round(random.uniform(100, 1000), 2) for _ in range(len(flights_df))],\n",
    "    'avg_review_score': [round(random.uniform(1, 5), 2) for _ in range(len(flights_df))]\n",
    "})\n",
    "\n",
    "flight_search_recommendations_df.to_csv('flight_search_recommendations.csv', index=False)\n"
   ]
  },
  {
   "cell_type": "code",
   "execution_count": 16,
   "id": "ef9f6d44",
   "metadata": {},
   "outputs": [],
   "source": [
    "flight_bookings_df = pd.DataFrame({\n",
    "    'booking_id': range(1, 601),\n",
    "    'customer_id': range(1, 601),\n",
    "    'payment_id': range(1, 601),\n",
    "    'flight_id': random.choices(flights_df['flight_id'].tolist(), k=600),\n",
    "    'adults_count': [random.randint(1, 5) for _ in range(600)],\n",
    "    'children_count': [random.randint(0, 3) for _ in range(600)]\n",
    "})\n",
    "\n",
    "flight_bookings_df.to_csv('flight_bookings.csv', index=False)\n"
   ]
  },
  {
   "cell_type": "code",
   "execution_count": 17,
   "id": "a526aa5a",
   "metadata": {},
   "outputs": [],
   "source": [
    "hotel_bookings_df = pd.DataFrame({\n",
    "    'booking_id': range(1, 601),\n",
    "    'customer_id': range(1, 601),\n",
    "    'payment_id': range(1, 601),\n",
    "    'hotel_id': random.choices(hotels_df['hotel_id'].tolist(), k=600),\n",
    "    'room_type': random.choices(room_types_df['room_type_id'].tolist(), k=600),\n",
    "    'adults_count': [random.randint(1, 5) for _ in range(600)],\n",
    "    'children_count': [random.randint(0, 3) for _ in range(600)]\n",
    "})\n",
    "\n",
    "hotel_bookings_df.to_csv('hotel_bookings.csv', index=False)\n"
   ]
  },
  {
   "cell_type": "code",
   "execution_count": 18,
   "id": "8f2ae7b4",
   "metadata": {},
   "outputs": [],
   "source": [
    "car_rental_bookings_df = pd.DataFrame({\n",
    "    'booking_id': range(1, 601),\n",
    "    'customer_id': range(1, 601),\n",
    "    'payment_id': range(1, 601),\n",
    "    'rental_company_id': random.choices(rental_companies_df['rental_company_id'].tolist(), k=600),\n",
    "    'car_type': random.choices(car_types_df['car_type_id'].tolist(), k=600),\n",
    "    'adults_count': [random.randint(1, 5) for _ in range(600)],\n",
    "    'children_count': [random.randint(0, 3) for _ in range(600)]\n",
    "})\n",
    "\n",
    "car_rental_bookings_df.to_csv('car_rental_bookings.csv', index=False)\n"
   ]
  },
  {
   "cell_type": "code",
   "execution_count": 19,
   "id": "ebbed455",
   "metadata": {},
   "outputs": [],
   "source": [
    "reviews_df = pd.DataFrame({\n",
    "    'review_id': range(1, 601),\n",
    "    'customer_id': range(1, 601),\n",
    "    'hotel_booking_id': random.choices(hotel_bookings_df['booking_id'].tolist(), k=600),\n",
    "    'car_rental_booking_id': random.choices(car_rental_bookings_df['booking_id'].tolist(), k=600),\n",
    "    'flight_booking_id': random.choices(flight_bookings_df['booking_id'].tolist(), k=600),\n",
    "    'date': pd.date_range(start='1/1/2020', periods=600),\n",
    "    'review_text': [random_string(200) for _ in range(600)]\n",
    "})\n",
    "\n",
    "reviews_df.to_csv('reviews.csv', index=False)\n"
   ]
  },
  {
   "cell_type": "code",
   "execution_count": null,
   "id": "276db17e",
   "metadata": {},
   "outputs": [],
   "source": []
  }
 ],
 "metadata": {
  "kernelspec": {
   "display_name": "Python 3 (ipykernel)",
   "language": "python",
   "name": "python3"
  },
  "language_info": {
   "codemirror_mode": {
    "name": "ipython",
    "version": 3
   },
   "file_extension": ".py",
   "mimetype": "text/x-python",
   "name": "python",
   "nbconvert_exporter": "python",
   "pygments_lexer": "ipython3",
   "version": "3.9.15"
  }
 },
 "nbformat": 4,
 "nbformat_minor": 5
}
